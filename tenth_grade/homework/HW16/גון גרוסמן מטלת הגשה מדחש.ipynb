{
 "cells": [
  {
   "cell_type": "markdown",
   "id": "2c5acc11-f054-4280-88a9-cdfefd20c747",
   "metadata": {},
   "source": [
    "# HW 14 - Dictionaries"
   ]
  },
  {
   "cell_type": "markdown",
   "id": "548ef63a-ccfe-430f-8564-3d558b60fb73",
   "metadata": {},
   "source": [
    "###  Exercise 1 - Swap keys and values\n",
    "Swap keys and values in a given dictionary"
   ]
  },
  {
   "cell_type": "code",
   "execution_count": 1,
   "id": "a24108c2-e351-4c86-a3be-7e14dc26d702",
   "metadata": {},
   "outputs": [
    {
     "name": "stdout",
     "output_type": "stream",
     "text": [
      "{4879: 'Mercury', 12104: 'Venus', 12756: 'Earth', 6792: 'Mars', 142984: 'Jupiter', 120536: 'Saturn', 51118: 'Uranus', 49528: 'Neptune', 2370: 'Pluto'}\n"
     ]
    }
   ],
   "source": [
    "planet_radius = {\n",
    "    'Mercury': 4879,\n",
    "    'Venus': 12104,\n",
    "    'Earth': 12756,\n",
    "    'Mars': 6792,\n",
    "    'Jupiter': 142984,\n",
    "    'Saturn': 120536,\n",
    "    'Uranus': 51118,\n",
    "    'Neptune': 49528,\n",
    "    'Pluto': 2370}\n",
    "\n",
    "swapped = {value:key for key, value in planet_radius.items()}\n",
    "print(swapped)"
   ]
  },
  {
   "cell_type": "markdown",
   "id": "3690ad39-f180-4da7-bc77-f1ab84af0286",
   "metadata": {},
   "source": [
    "### Exercise 2 - Create a dictionary\n",
    "Create a dictionary for the following lists in two different ways: using \"zip\" function and using comprehension."
   ]
  },
  {
   "cell_type": "code",
   "execution_count": 5,
   "id": "9c2bce2f-3b31-41d8-bb6e-27b0238d617f",
   "metadata": {},
   "outputs": [],
   "source": [
    "exo_planet = \"Kepler-10b HD_209458b Kepler-22b Kepler-186f TRAPPIST-1e HD-189733b Kepler-442b WASP-12b Proxima_Centauri_b\"\n",
    "orbital_periods = [0.84, 3.52, 289.9, 129.9, 6.10,2.22, 112.3, 1.09, 11.2]   # Orbital period in Earth days\n",
    "\n",
    "planet_list = exo_planet.split(\" \")\n",
    "\n",
    "# zip method\n",
    "dictionary_zip_method = dict(zip(planet_list, orbital_periods))\n",
    "\n",
    "# comprehension method\n",
    "dictionary_comprehension_method = {planet_list[i]:orbital_periods[i] for i in range(len(orbital_periods))}"
   ]
  },
  {
   "cell_type": "markdown",
   "id": "b4f37931-b803-4f20-a987-26c7895096f7",
   "metadata": {},
   "source": [
    "### Exercise 3 - Restore an text\n",
    "Restore an English text which was accidentally written with the keyboard in Hebrew mode."
   ]
  },
  {
   "cell_type": "code",
   "execution_count": 8,
   "id": "3de86702-3fef-42dd-80a5-7c1959115aea",
   "metadata": {},
   "outputs": [
    {
     "name": "stdout",
     "output_type": "stream",
     "text": [
      "i prefer java to python\n"
     ]
    }
   ],
   "source": [
    "heb2eng = {\n",
    "    \"א\": \"t\",\n",
    "    \"ב\": \"c\",\n",
    "    \"ג\": \"d\",\n",
    "    \"ד\": \"s\",\n",
    "    \"ה\": \"v\",\n",
    "    \"ו\": \"u\",\n",
    "    \"ז\": \"z\",\n",
    "    \"ח\": \"j\",\n",
    "    \"ט\": \"y\",\n",
    "    \"י\": \"h\",\n",
    "    \"כ\": \"f\",\n",
    "    \"ל\": \"k\",\n",
    "    \"מ\": \"n\",\n",
    "    \"נ\": \"b\",\n",
    "    \"ס\": \"x\",\n",
    "    \"ע\": \"g\",\n",
    "    \"פ\": \"p\",\n",
    "    \"צ\": \"m\",\n",
    "    \"ק\": \"e\",\n",
    "    \"ר\": \"r\",\n",
    "    \"ש\": \"a\",\n",
    "    \"ת\": \",\",\n",
    "    \"ך\": \"l\",\n",
    "    \" \": \" \",\n",
    "    \"ם\": \"o\",\n",
    "    \"ן\": \"i\",\n",
    "    \"'\": \"w\",\n",
    "    \"/\": \"q\",\n",
    "}\n",
    "\n",
    "text = \"ן פרקכקר חשהש אם פטאיםמ\"\n",
    "\n",
    "translated = \"\"\n",
    "\n",
    "for char in text.lower():\n",
    "    translated += heb2eng[char]\n",
    "\n",
    "print(translated)"
   ]
  },
  {
   "cell_type": "markdown",
   "id": "159f1fa5-2c93-4f50-bfdf-14544d9783ee",
   "metadata": {},
   "source": [
    "### Exercise 4 - Bigger than Earth\n",
    "Use comprehenstion to print planets (name and radius) that are  bigger than earth."
   ]
  },
  {
   "cell_type": "code",
   "execution_count": 10,
   "id": "9f268e24-4d1c-469a-bf0d-b5d5b5780ef5",
   "metadata": {},
   "outputs": [
    {
     "name": "stdout",
     "output_type": "stream",
     "text": [
      "Jupiter  :  142984\n",
      "Saturn  :  120536\n",
      "Uranus  :  51118\n",
      "Neptune  :  49528\n"
     ]
    }
   ],
   "source": [
    "planet_radius = {\n",
    "    'Mercury': 4879,\n",
    "    'Venus': 12104,\n",
    "    'Earth': 12756,\n",
    "    'Mars': 6792,\n",
    "    'Jupiter': 142984,\n",
    "    'Saturn': 120536,\n",
    "    'Uranus': 51118,\n",
    "    'Neptune': 49528,\n",
    "    'Pluto': 2370\n",
    "}\n",
    "\n",
    "planets_bigger_than_earth = [print(key, \" : \", value) if value > planet_radius['Earth'] else print(\"\", end=\"\") for key, value in planet_radius.items()]"
   ]
  },
  {
   "cell_type": "markdown",
   "id": "a41cecda-9dfd-40db-bc1b-090a4c610824",
   "metadata": {},
   "source": [
    "### Exercise 5 - Combining astronomical data \n",
    "Create a function that combines astronomical object data from multiple catalogs or observations. Each catalog captures different properties of celestial objects. \\\n",
    "Use the ** operator to merge these properties, with a prioritization list that determines which catalog's value to keep when conflicts occur."
   ]
  },
  {
   "cell_type": "code",
   "execution_count": 4,
   "id": "4fe2cc54-c7be-4bad-a35a-7c89113985b0",
   "metadata": {},
   "outputs": [
    {
     "name": "stdout",
     "output_type": "stream",
     "text": [
      "{'name': 'Andromeda', 'flux_density_Jy': 15.3, 'redshift': 0.000804, 'type': 'Galaxy', 'ra': '00h42m44.3s', 'dec': '+41°16′9″', 'magnitude': 3.4, 'distance_Mly': 2.5, 'stellar_mass_solar': 1000000000000.0, 'diameter_kly': 220}\n",
      "{'distance_Mly': 2.5, 'stellar_mass_solar': 1000000000000.0, 'diameter_kly': 220, 'name': 'M31', 'ra': '00h42m44.3s', 'dec': '+41°16′9″', 'magnitude': 3.4, 'type': 'Spiral Galaxy', 'flux_density_Jy': 15.3, 'redshift': 0.000804}\n"
     ]
    }
   ],
   "source": [
    "optical_data = {\"name\": \"M31\", \"ra\": \"00h42m44.3s\", \"dec\": \"+41°16′9″\", \"magnitude\": 3.4, \"type\": \"Spiral Galaxy\"}\n",
    "radio_data = {\"name\": \"Andromeda\", \"flux_density_Jy\": 15.3, \"redshift\": 0.000804, \"type\": \"Galaxy\"}\n",
    "derived_data = {\"distance_Mly\": 2.5, \"stellar_mass_solar\": 1e12, \"diameter_kly\": 220}\n",
    "priority_order = [\"radio_data\", \"optical_data\", \"derived_data\"]  # Which catalog to prioritize for conflicts\n",
    "\n",
    "\n",
    "ordered_dictionaries = {\"radio_data\":radio_data, \"optical_data\":optical_data, \"derived_data\":derived_data}\n",
    "\n",
    "# combining when radio data is the most important, in ascending order\n",
    "combined_asc = {}\n",
    "for curr_data_name in priority_order:\n",
    "    curr_data = ordered_dictionaries[curr_data_name]\n",
    "    for item in curr_data.keys():\n",
    "        if not item in combined_asc:\n",
    "            combined_asc[item] = curr_data[item]\n",
    "\n",
    "print(combined_asc)\n",
    "\n",
    "\n",
    "# combining when derived data is the most important, in descending order\n",
    "combined_des = {}\n",
    "for curr_data_name in reversed(priority_order):\n",
    "    curr_data = ordered_dictionaries[curr_data_name]\n",
    "    for item in curr_data.keys():\n",
    "        if not item in combined_des:\n",
    "            combined_des[item] = curr_data[item]\n",
    "\n",
    "print(combined_des)"
   ]
  },
  {
   "cell_type": "markdown",
   "id": "d16aae88-5fa1-40b9-9e86-c79ab08299f9",
   "metadata": {},
   "source": [
    "### Exercise 6 - Element Properties Dictionary\n",
    "\n",
    "1. Create a dictionary called `elements` where each key is an element name and each value is a nested dictionary containing \"atomic_number\", \"atomic_weight\", and \"state\".\n",
    "2. Write code to print all elements that are gases at room temperature.\n",
    "3. Find and print the element with the highest atomic weight.\n",
    "4. Add a new property \"discovered_year\" to each element with the following values: Hydrogen: 1766, Oxygen: 1774, Iron: Ancient times (5000 BCE), Mercury: Ancient times (2000 BCE), Helium: 1895.\n",
    "\n"
   ]
  },
  {
   "cell_type": "code",
   "execution_count": 23,
   "id": "13c28ad1-09a4-4b8c-91aa-455458b8e6d1",
   "metadata": {},
   "outputs": [
    {
     "name": "stdout",
     "output_type": "stream",
     "text": [
      "{'Hydrogen': {'atomic_number': 1, 'atomic_weight': 1.008, 'state': 'gas'}, 'Oxygen': {'atomic_number': 8, 'atomic_weight': 16.0, 'state': 'gas'}, 'Iron': {'atomic_number': 26, 'atomic_weight': 55.85, 'state': 'solid'}, 'Mercury': {'atomic_number': 80, 'atomic_weight': 200.59, 'state': 'liquid'}, 'Helium': {'atomic_number': 2, 'atomic_weight': 4.003, 'state': 'gas'}}\n",
      "\n",
      "\n",
      "Hydrogen\n",
      "Oxygen\n",
      "Helium\n",
      "\n",
      "\n",
      "Mercury\n",
      "{'Hydrogen': {'atomic_number': 1, 'atomic_weight': 1.008, 'state': 'gas', 'discovered_year': '1766'}, 'Oxygen': {'atomic_number': 8, 'atomic_weight': 16.0, 'state': 'gas', 'discovered_year': '1774'}, 'Iron': {'atomic_number': 26, 'atomic_weight': 55.85, 'state': 'solid', 'discovered_year': '5000 BCE'}, 'Mercury': {'atomic_number': 80, 'atomic_weight': 200.59, 'state': 'liquid', 'discovered_year': '2000 BCE'}, 'Helium': {'atomic_number': 2, 'atomic_weight': 4.003, 'state': 'gas', 'discovered_year': '1895'}}\n"
     ]
    }
   ],
   "source": [
    "element_names = [\"Hydrogen\", \"Oxygen\", \"Iron\", \"Mercury\", \"Helium\"]\n",
    "\n",
    "# Properties (in the same order as names)\n",
    "atomic_numbers = [1, 8, 26, 80, 2]\n",
    "atomic_weights = [1.008, 16.00, 55.85, 200.59, 4.003]\n",
    "states = [\"gas\", \"gas\", \"solid\", \"liquid\", \"gas\"]\n",
    "\n",
    "elements = {element_names[i]:{\"atomic_number\":atomic_numbers[i], \"atomic_weight\":atomic_weights[i], \"state\":states[i]} for i in range(len(element_names))}\n",
    "print(elements)\n",
    "\n",
    "\n",
    "print(\"\\n\")\n",
    "heaviest = \"\"\n",
    "for element in elements.keys():\n",
    "    if elements[element][\"state\"] == \"gas\":\n",
    "        print(element)\n",
    "    if heaviest == \"\" or elements[element][\"atomic_weight\"] > elements[heaviest][\"atomic_weight\"]:\n",
    "        heaviest = element\n",
    "print(\"\\n\")\n",
    "print(heaviest)\n",
    "\n",
    "discovered_years = [\"1766\", \"1774\", \"5000 BCE\", \"2000 BCE\", \"1895\"]\n",
    "for i in range(len(discovered_years)):\n",
    "    elements[list(elements)[i]][\"discovered_year\"] = discovered_years[i]\n",
    "\n",
    "print(elements)"
   ]
  },
  {
   "cell_type": "markdown",
   "id": "089aafa2-1403-4ef5-bf93-f8d478379b85",
   "metadata": {},
   "source": [
    "#### Output:\n",
    "\n",
    "1. \n",
    "{'Hydrogen': {'atomic_numbers': 1, 'atomic_weights': 1.008, 'states': 'gas'}, \\\n",
    " 'Oxygen': {'atomic_numbers': 8, 'atomic_weights': 16.0, 'states': 'gas'}, \\\n",
    " 'Iron': {'atomic_numbers': 26, 'atomic_weights': 55.85, 'states': 'solid'}, \\\n",
    " 'Mercury': {'atomic_numbers': 80, 'atomic_weights': 200.59, 'states': 'liquid'}, \\\n",
    " 'Helium': {'atomic_numbers': 2, 'atomic_weights': 4.003, 'states': 'gas'}}\n",
    "\n",
    "2. \n",
    "Hydrogen\n",
    "Oxygen\n",
    "Helium\n",
    "\n",
    "3. \n",
    "Mercury\n",
    "  \n",
    "4. \n",
    "{'Hydrogen': {'atomic_numbers': 1, 'atomic_weights': 1.008, 'states': 'gas', 'discovered_year': '1766'},\n",
    " 'Oxygen': {'atomic_numbers': 8, 'atomic_weights': 16.0, 'states': 'gas', 'discovered_year': '1774'},\n",
    " 'Iron': {'atomic_numbers': 26, 'atomic_weights': 55.85, 'states': 'solid', 'discovered_year': '5000 BCE'},\n",
    " 'Mercury': {'atomic_numbers': 80, 'atomic_weights': 200.59, 'states': 'liquid', 'discovered_year': '2000 BCE'},\n",
    " 'Helium': {'atomic_numbers': 2, 'atomic_weights': 4.003, 'states': 'gas', 'discovered_year': '1895'}}\n"
   ]
  },
  {
   "cell_type": "markdown",
   "id": "8e76fd20-e3ca-42ca-bd3a-24d42a616225",
   "metadata": {},
   "source": [
    "### Exercise 7: Astronomical Database\n",
    "\n",
    "1. Create a nested dictionary called `planets` where each key is a planet name and each value is a dictionary containing \"distance_from_sun\", \"moons\", \"orbital_period\", and \"composition\" (which is itself a dictionary).\n",
    "2. Create a function that takes a number as input and returns all planets with more moons than that number.\n",
    "3. Write a function to identify planets with similar composition (at least one component with >30% difference in components percentage)."
   ]
  },
  {
   "cell_type": "code",
   "execution_count": 9,
   "id": "71723124-3b7d-4c2c-8076-546ce8987990",
   "metadata": {},
   "outputs": [
    {
     "name": "stdout",
     "output_type": "stream",
     "text": [
      "['Mars', 'Jupiter', 'Saturn']\n",
      "[('Jupiter', 'Saturn')]\n"
     ]
    }
   ],
   "source": [
    "def composition_array_to_dictionary(inpt):\n",
    "    out = {}\n",
    "    for i in range(0, len(inpt), 2):\n",
    "        out[inpt[i]] = inpt[i+1]\n",
    "    \n",
    "    return out\n",
    "\n",
    "\n",
    "planet_names = [\"Mercury\", \"Venus\", \"Earth\", \"Mars\", \"Jupiter\", \"Saturn\"]\n",
    "\n",
    "# Planet data (in the same order as names)\n",
    "distances = [0.39, 0.72, 1.00, 1.52, 5.20, 9.58]  # in AU\n",
    "moon_counts = [0, 0, 1, 2, 79, 82]\n",
    "orbital_periods = [0.24, 0.62, 1.00, 1.88, 11.86, 29.46]  # in Earth years\n",
    "\n",
    "# Composition data (percentages of main components)\n",
    "mercury_comp = [\"iron\", 70, \"silicate\", 30]\n",
    "venus_comp = [\"carbon_dioxide\", 96, \"nitrogen\", 3, \"sulfur_dioxide\", 1]\n",
    "earth_comp = [\"nitrogen\", 78, \"oxygen\", 21, \"other_gases\", 1]\n",
    "mars_comp = [\"iron_oxide\", 70, \"silicate\", 30]\n",
    "jupiter_comp = [\"hydrogen\", 90, \"helium\", 10]\n",
    "saturn_comp = [\"hydrogen\", 96, \"helium\", 3, \"other\", 1]\n",
    "\n",
    "planet_compositions = [mercury_comp, venus_comp, earth_comp, mars_comp, jupiter_comp, saturn_comp]\n",
    "\n",
    "planets = {\n",
    "    planet_names[i]:\n",
    "    {\n",
    "        \"distance_from_sun\":distances[i], \n",
    "        \"moons\":moon_counts[i], \n",
    "        \"orbital_period\":orbital_periods[i], \n",
    "        \"composition\":composition_array_to_dictionary(planet_compositions[i])\n",
    "    }\n",
    "    for i in range(len(planet_names))\n",
    "    }\n",
    "\n",
    "def get_planets_with_more_moons_than(amount):\n",
    "    global planet_names, planets\n",
    "    relevant_planets = []\n",
    "    for planet in planet_names:\n",
    "        if planets[planet][\"moons\"] > amount:\n",
    "            relevant_planets.append(planet)\n",
    "    return relevant_planets\n",
    "\n",
    "print(get_planets_with_more_moons_than(1))\n",
    "\n",
    "\n",
    "def get_all_similar_composition_planets(tolerance=30.0):\n",
    "\n",
    "    # im assuming this means that the difference between any two identical components must be no more than 30%\n",
    "    def is_two_planets_similar_comp(comp1, comp2):\n",
    "        for item in comp1:\n",
    "            if not item in comp2:\n",
    "                comp2[item] = 0\n",
    "        \n",
    "        for item in comp2:\n",
    "            if not item in comp1:\n",
    "                comp1[item] = 0\n",
    "        \n",
    "\n",
    "        for item in comp1:\n",
    "            if abs(comp1[item] - comp2[item]) > tolerance:\n",
    "                return False\n",
    "        return True\n",
    "    \n",
    "    # contains tuples of similar planet names\n",
    "    similar = []\n",
    "    for i in range(len(planet_names)):\n",
    "        for j in range(i+1, len(planet_names)):\n",
    "            if is_two_planets_similar_comp(planets[planet_names[i]][\"composition\"], planets[planet_names[j]][\"composition\"]):\n",
    "                similar.append((planet_names[i], planet_names[j]))\n",
    "    \n",
    "    return similar\n",
    "\n",
    "print(get_all_similar_composition_planets())"
   ]
  }
 ],
 "metadata": {
  "kernelspec": {
   "display_name": "Python 3",
   "language": "python",
   "name": "python3"
  },
  "language_info": {
   "codemirror_mode": {
    "name": "ipython",
    "version": 3
   },
   "file_extension": ".py",
   "mimetype": "text/x-python",
   "name": "python",
   "nbconvert_exporter": "python",
   "pygments_lexer": "ipython3",
   "version": "3.11.2"
  }
 },
 "nbformat": 4,
 "nbformat_minor": 5
}
