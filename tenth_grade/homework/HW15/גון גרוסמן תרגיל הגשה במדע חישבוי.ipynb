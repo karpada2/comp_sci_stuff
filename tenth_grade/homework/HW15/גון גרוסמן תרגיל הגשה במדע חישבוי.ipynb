{
 "cells": [
  {
   "cell_type": "markdown",
   "id": "790e51e8-f093-4ccd-b541-1989717dc185",
   "metadata": {},
   "source": [
    "<p dir=\"rtl\" style=\"text-align: center; font-size: 32px; font-weight: bold;\">\n",
    "שיעורי בית - רקורסיה\n",
    "</p>"
   ]
  },
  {
   "cell_type": "markdown",
   "id": "7d4752dc-b8f3-43c9-876a-1d48198c8dae",
   "metadata": {},
   "source": [
    "<p dir=\"rtl\" style=\"text-align: center; font-size: 18px\">\n",
    "את התרגילים הבאים יש לפתור לא שימוש בלולאות או בפונקציית  של פייתון \n",
    "</p>\n",
    "\n"
   ]
  },
  {
   "cell_type": "markdown",
   "id": "ed9d895c-d7b1-4ea7-accb-ecbce70ecc76",
   "metadata": {},
   "source": [
    "##\n",
    "<p dir=\"rtl\" style=\"text-align: right; font-size: 18px; font-weight: bold;\">\n",
    "תרגיל 1 - היפוך מחרוזת\n",
    "</p>\n",
    "\n",
    "<p dir=\"rtl\" style=\"text-align: right\">\n",
    " כתבו פונקציה המקבלת כקלט מחרוזת ומחזירה את המחרוזת במהופך. לדוגמה, עבור הקלט \"yes we can\"  הפונקציה מחזירה 'nac ew sey' \n",
    ". אנא ציינו במפורש מהו תנאי היציאה ומהו שלב הרקורסיה. אפשר להניח שהקלט תקין. </p>"
   ]
  },
  {
   "cell_type": "code",
   "execution_count": 3,
   "id": "0cc1f6dc",
   "metadata": {},
   "outputs": [
    {
     "name": "stdout",
     "output_type": "stream",
     "text": [
      "nac ew sey\n"
     ]
    }
   ],
   "source": [
    "def reverse(text):\n",
    "    if not text: # תנאי יציאה\n",
    "        return \"\"\n",
    "    \n",
    "    return text[-1] + reverse(text[:-1]) # שלב הרקורסיה\n",
    "\n",
    "print(reverse(input(\"Enter string: \")))"
   ]
  },
  {
   "cell_type": "markdown",
   "id": "346a1fed-5d5f-4f4d-83fd-c2de42ee1848",
   "metadata": {},
   "source": [
    "##\n",
    "<p dir=\"rtl\" style=\"text-align: right; font-size: 18px; font-weight: bold;\">\n",
    "תרגיל 2 - חזקה\n",
    "</p>\n",
    "\n",
    "<p dir=\"rtl\" style=\"text-align: right\">\n",
    " כתבו פונקציה המקבלת כקלט שני מספרים וחיוביים ומחזירה מהו אחד בחזקת השני. לדוגמא, אם הפונקציה תקבל את המספר 5 ,7 אז היא תחשב מהו  $ 7^5 $ ותחזיר 16807 במידה ואתם פותרים את השאלה בעזרת רקורסיה, אנא ציינו במפורש מהו תנאי היציאה ומהו שלב הרקורסיה. אפשר להניח שהקלט תקין.. </p>"
   ]
  },
  {
   "cell_type": "code",
   "execution_count": 6,
   "id": "816e2520",
   "metadata": {},
   "outputs": [
    {
     "name": "stdout",
     "output_type": "stream",
     "text": [
      "16807\n"
     ]
    }
   ],
   "source": [
    "def power(base, exponent):\n",
    "    if exponent == 0: # תנאי יציאה\n",
    "        return 1\n",
    "    \n",
    "    return base * power(base, exponent-1) # שלב הרקורסיה\n",
    "\n",
    "print(power(7, 5))"
   ]
  },
  {
   "cell_type": "markdown",
   "id": "436c4f5f-9b62-4038-a367-51c38cf45a3f",
   "metadata": {},
   "source": [
    "##\n",
    "<p dir=\"rtl\" style=\"text-align: right; font-size: 18px; font-weight: bold;\">\n",
    "תרגיל 3 - המרת מחרוזת של מספר למספר שלם\n",
    "</p>\n",
    "\n",
    "<p dir=\"rtl\" style=\"text-align: right\">  \n",
    "המרת מחרוזת של מספר למספר שלם ללא שימוש בלולאות או בפונקציית  של פייתון, כתבו פונקציה המקבל כקלט מחרוזת של מספר חיובי ושלם\n",
    "ומחזירה את ערך המספר. לדוגמא, אם הפונקציה מקבלת כקלט את המחרוזת ״122״ אז היא תחזיר את המספר 122.\n",
    "פתרו את השאלה בעזרת רקורסיה, וציינו במפורש מהו תנאי היציאה ומהו\n",
    "שלב הרקורסיה. אפשר\n",
    "להניח שהקלט תקין.\n",
    "</p>"
   ]
  },
  {
   "cell_type": "code",
   "execution_count": null,
   "id": "d1edf9a3",
   "metadata": {},
   "outputs": [
    {
     "name": "stdout",
     "output_type": "stream",
     "text": [
      "122\n",
      "<class 'int'>\n"
     ]
    }
   ],
   "source": [
    "def size(text):\n",
    "    if not text: # תנאי יציאה\n",
    "        return 0\n",
    "\n",
    "    return size(text[:-1]) + 1 # שלב הרקורסיה\n",
    "\n",
    "def strToInt(text):\n",
    "    numbers = {\n",
    "        \"0\" : 0, \n",
    "        \"1\" : 1, \n",
    "        \"2\" : 2,\n",
    "        \"3\" : 3,\n",
    "        \"4\" : 4,\n",
    "        \"5\" : 5,\n",
    "        \"6\" : 6,\n",
    "        \"7\" : 7,\n",
    "        \"8\" : 8,\n",
    "        \"9\" : 9\n",
    "        } # this is the only way i can think of to make a string of a single digit into an int without using int()\n",
    "    \n",
    "    if size(text) == 1: # תנאי יציאה\n",
    "        return numbers[text[0]]\n",
    "    \n",
    "    return numbers[text[-1]] + 10*strToInt(text[:-1]) # שלב הרקורסיה\n",
    "\n",
    "\n",
    "inpt = input(\"Enter number: \")\n",
    "print(strToInt(inpt))\n",
    "print(type(strToInt(inpt)))"
   ]
  },
  {
   "cell_type": "markdown",
   "id": "c0dfa818-6d54-4207-a6c2-53292a9321eb",
   "metadata": {},
   "source": [
    "##\n",
    "<p dir=\"rtl\" style=\"text-align: right; font-size: 18px; font-weight: bold;\">\n",
    "תרגיל 4 - פלינדרום\n",
    "\n",
    "<p dir=\"rtl\" style=\"text-align: right\">  \n",
    " פלינדרום הוא מילה, מספר או משפט שרצף קריאתו מימין לשמאל זהה. דוגמאות: \n",
    "\n",
    "* 11\n",
    "* 101\n",
    "* 666\n",
    "* 141141\n",
    "* 1,457,541\n",
    "* AVIVA\n",
    "* HANNAH\n",
    "* 123,123,321,321\n",
    "* 696,566,665,696\n",
    "* 1,000,000,000,000,066,600,000,000,000,001\n",
    "</p>\n",
    "<p dir=\"rtl\" style=\"text-align: right\">  \n",
    "כתבו פונקציה רקורסיבית המקבלת מחרוזת ומדפיסה הודעה מתאימה כדי לקבוע אם המחרוזת היא פלינדרום. "
   ]
  },
  {
   "cell_type": "code",
   "execution_count": 16,
   "id": "08c7cfa8",
   "metadata": {},
   "outputs": [
    {
     "name": "stdout",
     "output_type": "stream",
     "text": [
      "False\n"
     ]
    }
   ],
   "source": [
    "def reverse(text):\n",
    "    if not text: # תנאי יציאה\n",
    "        return \"\"\n",
    "    \n",
    "    return text[-1] + reverse(text[:-1]) # שלב הרקורסיה\n",
    "\n",
    "def isEqual(text1, text2):\n",
    "    if text1 and text2: # אם שתי המחרוזות לא ריקות\n",
    "        if text1[0] == text2[0]:\n",
    "            return isEqual(text1[1:], text2[1:]) #שלב הרקורסיה \n",
    "    elif not text1 and not text2:\n",
    "        return True # תנאי יציאה\n",
    "        \n",
    "    return False # תנאי יציאה\n",
    "\n",
    "def isPalindrome(text):\n",
    "    return isEqual(text, reverse(text))\n",
    "\n",
    "print(isPalindrome(input(\"Enter text: \")))"
   ]
  },
  {
   "cell_type": "markdown",
   "id": "761981b5-3622-469e-bf66-95a71e5c77c6",
   "metadata": {},
   "source": [
    "##\n",
    "<p dir=\"rtl\" style=\"text-align: right; font-size: 18px; font-weight: bold;\">\n",
    "תרגיל 5 - גורם משותף מקסימלי</p>\n",
    "\n",
    "<p dir=\"rtl\" style=\"text-align: right\">  \n",
    "גורם משותף מקסימלי (gcd) הוא המספר הכי גדול שמחלק שני מספרים ללא שארית, לדוגמא עבור המספרים 435 ו - 406 הגורם המשותף המקסימלי הוא 29 כי הוא המספר הכי גדול המחלק את שניהם ללא שארית.\n",
    "<br>\n",
    "איך מוצאים את הגורם המשותף המקסימלי? \n",
    "<br>\n",
    "נסמן שני מספרים ב - $x$ ו - $y$. אם $x>y$ נקבל ששארית חלוקת $x$ ב - $y$ (מה שמסומן בפייתון ב - $x$  % $y$) גם צריך להתחלק ב - $gdc$ שלהם. את הטענה הזו ניתן להוכיח, והיא מופיעה בהמשך.\n",
    "<br>\n",
    "ניתן לחזור על הפעולה הזו שוב ושוב עד שמקבלים שני מספרים שהשארית שלהם היא אפס, כלומר שאחד הוא הגורם של השני.\n",
    "לדוגמא, אם נרצה למצוא את הגורם המשותף של 23 ו - 49 נקבל ש:\n",
    "<p style=\"text-align: center\">  \n",
    "$49$  % $23$ = $3$\n",
    "<br>\n",
    "$23$  % $3$ = $2$\n",
    "<br>\n",
    "$3$  % $2$ = $1$\n",
    "<br>\n",
    "$2$  % $1$ = $0$\n",
    "<br>\n",
    "<p dir=\"rtl\" style=\"text-align: right\">  \n",
    "כתבו פונקציה המקבלת כקלט שני מספרים שלמים ומחזירה את הגורם המשותף הגדול ביותר שלהם\n",
    "</p>"
   ]
  },
  {
   "cell_type": "markdown",
   "id": "c437ed78-353d-492f-9f9e-ec7613b5d508",
   "metadata": {},
   "source": [
    "Proof of $$\\gcd(a, b) = \\gcd(a,a \\% b)) $$\n",
    "\n",
    "To prove this, let’s denote  $d = \\gcd(a, b)$ . This means that d  is a divisor of both  a  and  b .\n",
    "\n",
    "1.\tDivisibility of d:\n",
    "\tSince d divides both a and b ,there exist integers k and m such that:\n",
    "\n",
    "$$ a = dk \\quad \\text{and} \\quad b = dm $$\n",
    "\n",
    "By definition of the modulo operation (denoted as \\%):\n",
    "$$\n",
    "a \\% b = a - \\left\\lfloor \\frac{a}{b} \\right\\rfloor \\cdot b\n",
    "$$\n",
    "where  $\\left\\lfloor \\frac{a}{b} \\right\\rfloor$  is the integer quotient of a  divided by b.\\\n",
    "2. Substitution into the modulo operation: \n",
    "\tSubstitute  a = dk  and  b = dm  into the modulo operation:\n",
    "$$ a \\% b = dk - \\left\\lfloor \\frac{dk}{dm} \\right\\rfloor \\cdot dm $$\n",
    "Simplifying the expression:\n",
    "$$ a \\% b = dk - \\left\\lfloor \\frac{k}{m} \\right\\rfloor \\cdot dm $$\n",
    "Since  $\\left\\lfloor \\frac{k}{m} \\right\\rfloor$  is an integer, let it be  q , then:\n",
    "$$ a \\% b = dk - q \\cdot dm $$\n",
    "\n",
    "$$ a \\% b = d(k - qm) $$\n",
    "3.\tImplication of divisibility:\n",
    "From the equation $ a \\% b = d(k - qm) $, it is clear that  d  divides $a \\% b$ because  $k - qm$  is an integer.\n",
    "Thus, d is a common divisor of both b and $a \\% b$.\\\n",
    "4.\tCommon Divisors and GCD:\n",
    "Any common divisor of  a  and  b  must also be a divisor of $a \\% b$ (since $a \\% b$ is constructed from a and b using subtraction and integer multiplication, which does not introduce new prime factors).\n",
    "Therefore, the set of common divisors of a and b is the same as the set of common divisors of b and $a \\% b$.\\\n",
    "5.\tConclusion:\n",
    "\tSince d is a divisor of both b and $a \\mod b$ and is the greatest such divisor, we have:\n",
    "$$ \\gcd(a, b) = \\gcd(b, a \\% b)$$"
   ]
  },
  {
   "cell_type": "code",
   "execution_count": 21,
   "id": "f99ac972",
   "metadata": {},
   "outputs": [
    {
     "name": "stdout",
     "output_type": "stream",
     "text": [
      "1\n",
      "25\n",
      "7\n"
     ]
    }
   ],
   "source": [
    "def gcd(x, y):\n",
    "    if y > x: # make sure x >= y\n",
    "        return gcd(y, x)\n",
    "    \n",
    "    if x%y == 0:\n",
    "        return y # תנאי יציאה\n",
    "    \n",
    "    return gcd(y, x%y) # שלב הרקורסיה\n",
    "\n",
    "print(gcd(49, 23))\n",
    "print(gcd(50, 25))\n",
    "print(gcd(49, 14))"
   ]
  },
  {
   "cell_type": "markdown",
   "id": "bd6be14c-aafb-45af-9171-eab57e02544f",
   "metadata": {},
   "source": [
    "##\n",
    "<p dir=\"rtl\" style=\"text-align: right; font-size: 18px; font-weight: bold;\">\n",
    "תרגיל 6 - אריה במדבר</p>\n",
    "\n",
    "<p dir=\"rtl\" style=\"text-align: right\">  \n",
    "אריה במדבר הוא שמו של אלגוריתם למציאת מספר מסויים ברשימה ממויינת. מחלקים את הרשימה לשניים ובודקים האם המספר נמצא בה לפי השוואת גודלו למספר הכי .קטן/גדול בחלק החצוי של הרשימה. אם המספר מקיים את התנאי, ממשיגים לחלק את הרשימה עוד ועוד עד שמגיעים למספר, אם הוא קיים.\n",
    "<br>\n",
    "לדוגמא, רוצים לבדוק אם המספר 10 קיים ברשימה הבאה:\n",
    "<p style=\"text-align: center\">  \n",
    "[-8, 0 , 1.5, 4,6,8,9,32,1054]\n",
    "<p dir=\"rtl\" style=\"text-align: right\">  \n",
    "באמצע הרשימה נמצא המספר 6. אם 10 נמצא ברשימה או הוא חייב להיות מימין ל - 6. נחלק את הרשימה לשתיים ונקבל:\n",
    "<p style=\"text-align: center\">  \n",
    "[8, 9 , 32, 1054]\n",
    "    <p dir=\"rtl\" style=\"text-align: right\">  \n",
    "באמצע הרשימה נמצא המספר 32. אם 10 נמצא ברשימה או הוא חייב להיות משמאל ל - 32. נחלק את הרשימה לשתיים ונקבל:\n",
    "<p style=\"text-align: center\">  \n",
    "[8, 9]\n",
    "    <p dir=\"rtl\" style=\"text-align: right\">  \n",
    "באמצע הרשימה נמצא המספר 9. אם 10 נמצא ברשימה או הוא חייב להיות מימין ל - 9. נחלק את הרשימה לשתיים ונקבל:\n",
    "<p style=\"text-align: center\">  \n",
    "[8]\n",
    "    <p dir=\"rtl\" style=\"text-align: right\">  \n",
    "המספר האחרון ברשימה הוא לא 10 כך ש - 10 אינו ברשימה\n",
    "<p dir=\"rtl\" style=\"text-align: right\">  \n",
    "כתבו פונקציה המקבלת רשימה ממויינת ומספר, ומחזירה True אם המספר מופיע ברשימה ו - False אחרת. הניחו שהקלט תקין."
   ]
  },
  {
   "cell_type": "code",
   "execution_count": null,
   "id": "5f5dbc01",
   "metadata": {},
   "outputs": [
    {
     "name": "stdout",
     "output_type": "stream",
     "text": [
      "False\n",
      "True\n",
      "True\n",
      "True\n"
     ]
    }
   ],
   "source": [
    "def size(lst):\n",
    "    if not lst: # תנאי יציאה\n",
    "        return 0\n",
    "\n",
    "    return size(lst[:-1]) + 1 # שלב הרקורסיה\n",
    "\n",
    "def binarySearch(lst, num):\n",
    "    if size(lst) == 1:\n",
    "        return lst[0] == num # תנאי יציאה\n",
    "    \n",
    "    middle = int(size(lst)/2)\n",
    "    if lst[middle] == num:\n",
    "        return True # תנאי יציאה\n",
    "    elif lst[middle] < num:\n",
    "        return binarySearch(lst[middle:], num) # שלב הרקורסיה\n",
    "    elif lst[middle] > num:\n",
    "        return binarySearch(lst[:middle], num) # שלב הרקורסיה\n",
    "\n",
    "print(binarySearch([-8, 0 , 1.5, 4,6,8,9,32,1054], 10))\n",
    "print(binarySearch([-8, 0 , 1.5, 4,6,8,9,32,1054], 1054))\n",
    "print(binarySearch([-8, 0 , 1.5, 4,6,8,9,32,1054], -8))\n",
    "print(binarySearch([-8, 0 , 1.5, 4,6,8,9,32,1054], 6))"
   ]
  },
  {
   "cell_type": "markdown",
   "id": "b5c76ba3-253f-4f21-a342-8a0d36c55898",
   "metadata": {},
   "source": [
    "##\n",
    "<p dir=\"rtl\" style=\"text-align: right; font-size: 18px; font-weight: bold;\">\n",
    "תרגיל 7 (רשות) - מגדל האנוי \n",
    "</p>\n",
    "<p dir=\"rtl\" style=\"text-align: right\"> \n",
    "מגדלי האנוי הוא משחק-חידה לשחקן בודד, הנחשב לאחד המשחקים המתמטיים הידועים ביותר. \n",
    "המשחק כולל שלושה מוטות אנכיים (A,B,C), בעלי אורך זהה ומספר דיסקיות בגדלים שונים שניתן להשחיל על המוטות. בתחילת המשחק, הדיסקיות מסודרות על פי גודלן מהגדולה לקטנה על אחד המוטות, כשהגדולה ביותר למטה והקטנה ביותר למעלה. מטרת המשחק היא להעביר את כל הדיסקיות ממוט זה אל אחד משני המוטות הנותרים בכפוף לשני חוקים: (1) מותר להזיז רק דיסקית אחת בכל פעם – מראש מוט אחד לראש מוט אחר (אפשר להזיז רק את הדסקית העליונה בכל עמוד). (2) אסור להניח דיסקית אחת על דיסקית שקטנה ממנה.\n",
    "<p dir=\"rtl\" style=\"text-align: right\"> \n",
    "העזרה בקישורים הבאים כדי לגלות את האלגוריתם הרקורסיבי\n",
    "\n",
    "https://www.mathsisfun.com/games/towerofhanoi.html\n",
    "https://www.khanacademy.org/computing/computer-science/algorithms/towers-of-hanoi/a/towers-of-hanoi\n",
    "\n",
    "\n",
    "<p dir=\"rtl\" style=\"text-align: right\">\n",
    "כתבו פונקציה המקבלת את מספר הדסקיות שעל עמוד A ומדפיסה את סדרת המהלכים החוקיים שצריך לעשות כדי לקבל את המצב הסופי המתבקש, כך שכל הדיסקיות מסודרות על עמוד C. התחילו ממצב התחלתי שבו כל הדסקיות נמצאות על עמוד A."
   ]
  }
 ],
 "metadata": {
  "kernelspec": {
   "display_name": "Python 3",
   "language": "python",
   "name": "python3"
  },
  "language_info": {
   "codemirror_mode": {
    "name": "ipython",
    "version": 3
   },
   "file_extension": ".py",
   "mimetype": "text/x-python",
   "name": "python",
   "nbconvert_exporter": "python",
   "pygments_lexer": "ipython3",
   "version": "3.11.2"
  }
 },
 "nbformat": 4,
 "nbformat_minor": 5
}
