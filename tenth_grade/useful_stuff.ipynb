{
 "cells": [
  {
   "cell_type": "markdown",
   "id": "b65fa317",
   "metadata": {},
   "source": [
    "# **Statistics**"
   ]
  },
  {
   "cell_type": "code",
   "execution_count": null,
   "id": "48bee034",
   "metadata": {},
   "outputs": [],
   "source": [
    "def get_median(counter_array):\n",
    "    amount_of_elements = sum(counter_array) #how many elements are represented in this counter array\n",
    "\n",
    "    median_position = int(amount_of_elements//2) #the non-counter array'ed version of the median element index\n",
    "    element_sum = 0 #running counter of how many elements we passed\n",
    "\n",
    "    for i in range(len(counter_array)): #go through the whole array, counting how many elements we passed along the way\n",
    "        element_sum += counter_array[i]\n",
    "        if element_sum >= median_position: #if we passed the median, then run logic to give the correct median\n",
    "            if amount_of_elements % 2 == 1: #if it's nice and uneven, just return the correct index\n",
    "                return i\n",
    "            elif element_sum == median_position: #if we landed in the exact middle, pretty much average\n",
    "                return (i+(i+1))/2.0\n",
    "            else: #edge-case proofing\n",
    "                return i\n",
    "    \n",
    "    return -1 #you messed up"
   ]
  },
  {
   "cell_type": "code",
   "execution_count": null,
   "id": "7941a063",
   "metadata": {},
   "outputs": [],
   "source": [
    "min = 0\n",
    "max = 100\n",
    "bins = 8\n",
    "\n",
    "step = (max-min)/bins\n",
    "\n",
    "for i in range(bins-1):\n",
    "    create_bin(round_up(min + step*i), round_up(min + step*(i+1) - 1))\n",
    "\n",
    "create_bin(round_up(min + step*(bins-1)), max)"
   ]
  }
 ],
 "metadata": {
  "language_info": {
   "name": "python"
  }
 },
 "nbformat": 4,
 "nbformat_minor": 5
}
