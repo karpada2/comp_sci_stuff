{
 "cells": [
  {
   "cell_type": "code",
   "execution_count": 1,
   "id": "1d26837f",
   "metadata": {},
   "outputs": [],
   "source": [
    "from scipy.special import comb\n",
    "import numpy as np\n",
    "import matplotlib.pyplot as plt"
   ]
  },
  {
   "cell_type": "code",
   "execution_count": 15,
   "id": "0735fe86",
   "metadata": {},
   "outputs": [],
   "source": [
    "def binomial_distribution(amount_of_tests, amount_required, chance_of_happening):\n",
    "    return comb(amount_of_tests, amount_required)*(chance_of_happening**amount_required)*((1-chance_of_happening)**(amount_of_tests-amount_required))\n",
    "\n",
    "def CDF(amount_of_tests, possible_amounts, chance_of_happening):\n",
    "    return binomial_distribution(amount_of_tests, possible_amounts, chance_of_happening).sum()\n",
    "\n",
    "def expected_value(values, chances):\n",
    "    return (values*chances).sum()"
   ]
  },
  {
   "cell_type": "markdown",
   "id": "59362221",
   "metadata": {},
   "source": [
    "# Question 1:"
   ]
  },
  {
   "cell_type": "code",
   "execution_count": 12,
   "id": "f4caebea",
   "metadata": {},
   "outputs": [
    {
     "name": "stdout",
     "output_type": "stream",
     "text": [
      "a). Probability of getting number side 3 times: 0.1171875\n",
      "b). Probability of getting number side at most 3 times: 0.171875\n",
      "c). Expected amount of number side when filpping 10 times: 5.0\n"
     ]
    }
   ],
   "source": [
    "print(f\"a). Probability of getting number side 3 times: {binomial_distribution(10, 3, 0.5)}\")\n",
    "print(f\"b). Probability of getting number side at most 3 times: {CDF(10, np.array([0, 1, 2, 3]), 0.5)}\")\n",
    "print(f\"c). Expected amount of number side when filpping 10 times: {10*expected_value(np.array([0, 1]), np.array([0.5, 0.5]))}\")"
   ]
  },
  {
   "cell_type": "markdown",
   "id": "367f33fc",
   "metadata": {},
   "source": [
    "# Question 2:"
   ]
  },
  {
   "cell_type": "code",
   "execution_count": 14,
   "id": "f124b06c",
   "metadata": {},
   "outputs": [
    {
     "name": "stdout",
     "output_type": "stream",
     "text": [
      "a). Probability of this result: 0.006818253984792689\n",
      "b). Probability of worse result: 0.009508311946973732\n"
     ]
    }
   ],
   "source": [
    "print(f\"a). Probability of this result: {binomial_distribution(200, 30, 0.1)}\")\n",
    "print(f\"b). Probability of worse result: {CDF(200, np.array([i for i in range(31, 201)]), 0.1)}\")"
   ]
  },
  {
   "cell_type": "markdown",
   "id": "9165e5a4",
   "metadata": {},
   "source": [
    "# Question 3:"
   ]
  },
  {
   "cell_type": "code",
   "execution_count": 17,
   "id": "09ba2cd7",
   "metadata": {},
   "outputs": [
    {
     "name": "stdout",
     "output_type": "stream",
     "text": [
      "a). Probability of getting at least one 6: 0.5177469135802469\n",
      "b). Probability of getting at least one double 6: 0.4914038761309031\n"
     ]
    }
   ],
   "source": [
    "print(f\"a). Probability of getting at least one 6: {CDF(4, np.array([1, 2, 3, 4]), 1/6)}\")\n",
    "print(f\"b). Probability of getting at least one double 6: {CDF(24, np.array([i for i in range(1, 25)]), 1/36)}\")"
   ]
  },
  {
   "cell_type": "markdown",
   "id": "6d5c2897",
   "metadata": {},
   "source": [
    "# Question 4:"
   ]
  },
  {
   "cell_type": "code",
   "execution_count": null,
   "id": "3c024a61",
   "metadata": {},
   "outputs": [
    {
     "name": "stdout",
     "output_type": "stream",
     "text": [
      "Ways to create nine: 25\n",
      "Ways to create ten: 27\n"
     ]
    }
   ],
   "source": [
    "# The original assumption is wrong since different orders (i.e. (1, 4, 5) should be counted as different from (5, 1, 4)) should\n",
    "# be counted multiple times.\n",
    "\n",
    "count_tens = 0\n",
    "count_nines = 0\n",
    "for i in range(1, 7):\n",
    "    for j in range(1, 7):\n",
    "        for k in range(1, 7):\n",
    "            if (i+j+k == 9):\n",
    "                count_nines += 1\n",
    "            elif (i+j+k == 10):\n",
    "                count_tens += 1\n",
    "\n",
    "print(f\"Ways to create nine: {count_nines}\")\n",
    "print(f\"Ways to create ten: {count_tens}\")"
   ]
  },
  {
   "cell_type": "markdown",
   "id": "3c0a6b2f",
   "metadata": {},
   "source": [
    "# Question 5:"
   ]
  },
  {
   "cell_type": "code",
   "execution_count": 29,
   "id": "be75d10f",
   "metadata": {},
   "outputs": [
    {
     "name": "stdout",
     "output_type": "stream",
     "text": [
      "expected amount to win (acounting for cost): 0.0\n"
     ]
    }
   ],
   "source": [
    "# a).\n",
    "\n",
    "# this shows that even after infinite tries, the game is considered fair\n",
    "print(f\"expected amount to win (acounting for cost): {1-expected_value(np.array([0, 0, 0, 0, 0, 6]), np.array([1/6, 1/6, 1/6, 1/6, 1/6, 1/6]))}\")"
   ]
  },
  {
   "cell_type": "code",
   "execution_count": 46,
   "id": "6122308e",
   "metadata": {},
   "outputs": [
    {
     "data": {
      "image/png": "[encoded data removed]",
      "text/plain": [
       "<Figure size 640x480 with 1 Axes>"
      ]
     },
     "metadata": {},
     "output_type": "display_data"
    },
    {
     "name": "stdout",
     "output_type": "stream",
     "text": [
      "5.002017941238916\n"
     ]
    }
   ],
   "source": [
    "# b).\n",
    "\n",
    "def get_amount_won(student):\n",
    "    return 6*(np.sum(student == 6)) - 1*np.size(student)\n",
    "\n",
    "student_amount = 1_000_000\n",
    "rolls_amount = 5\n",
    "\n",
    "rolls = np.random.randint(1, 7, (student_amount, rolls_amount))\n",
    "\n",
    "winnings = np.apply_along_axis(get_amount_won, 1, rolls)\n",
    "plt.hist(winnings, bins=range(-rolls_amount, (6*rolls_amount)-rolls_amount+1))\n",
    "plt.show()\n",
    "print(np.std(winnings))"
   ]
  },
  {
   "cell_type": "code",
   "execution_count": 48,
   "id": "d68d4a4f",
   "metadata": {},
   "outputs": [
    {
     "name": "stdout",
     "output_type": "stream",
     "text": [
      "Probability for student to lose all money: 0.401877572016461\n"
     ]
    }
   ],
   "source": [
    "# c).\n",
    "\n",
    "print(f\"Probability for student to lose all money: {binomial_distribution(5, 5, 5/6)}\")"
   ]
  }
 ],
 "metadata": {
  "kernelspec": {
   "display_name": "Python 3",
   "language": "python",
   "name": "python3"
  },
  "language_info": {
   "codemirror_mode": {
    "name": "ipython",
    "version": 3
   },
   "file_extension": ".py",
   "mimetype": "text/x-python",
   "name": "python",
   "nbconvert_exporter": "python",
   "pygments_lexer": "ipython3",
   "version": "3.11.2"
  }
 },
 "nbformat": 4,
 "nbformat_minor": 5
}
