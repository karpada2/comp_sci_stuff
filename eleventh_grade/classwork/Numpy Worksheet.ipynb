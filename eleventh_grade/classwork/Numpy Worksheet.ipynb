{
 "cells": [
  {
   "cell_type": "markdown",
   "id": "ca4c7c71-7f36-4cdd-9005-6507be4702ff",
   "metadata": {},
   "source": [
    "# Numpy - Practice Worksheet"
   ]
  },
  {
   "cell_type": "markdown",
   "id": "8dc11133-988d-4ee9-8aec-68e9fc8a46cf",
   "metadata": {},
   "source": [
    "### Exercise 1 – Daily temperatures\n",
    "Create a NumPy array of 7 numbers representing the daily high temperatures of a week in °C: [29, 31, 30, 28, 32, 33, 31].\n",
    "* Find the average temperature.\n",
    "* Convert all temperatures to Fahrenheit using F = C × 9/5 + 32."
   ]
  },
  {
   "cell_type": "code",
   "execution_count": 3,
   "id": "cca0b7ea-336e-4754-8ad4-e19dfeab9be2",
   "metadata": {},
   "outputs": [
    {
     "name": "stdout",
     "output_type": "stream",
     "text": [
      "30.571428571428573\n",
      "[84.2 87.8 86.  82.4 89.6 91.4 87.8]\n"
     ]
    }
   ],
   "source": [
    "import numpy as np\n",
    "import matplotlib.pyplot as plt\n",
    "\n",
    "temps = np.array([29, 31, 30, 28, 32, 33, 31])\n",
    "print(np.mean(temps))\n",
    "\n",
    "print((temps*(9/5))+32)"
   ]
  },
  {
   "cell_type": "markdown",
   "id": "d592591f-f4f5-4ee7-91a7-6690f1fef286",
   "metadata": {},
   "source": [
    "### Exercise 2 – Array properties\n",
    "\n",
    "The following array is given [-2, 2, 0, 5]\n",
    ". \n",
    "\n",
    "* Find the number of dimensions.\n",
    "* Find its shape.\n",
    "* Find the total number of elements."
   ]
  },
  {
   "cell_type": "code",
   "execution_count": 6,
   "id": "5f263be4-1628-4c95-b80d-8e5b6e738fd4",
   "metadata": {},
   "outputs": [
    {
     "name": "stdout",
     "output_type": "stream",
     "text": [
      "1\n",
      "(4,)\n",
      "4\n"
     ]
    }
   ],
   "source": [
    "import numpy as np\n",
    "import matplotlib.pyplot as plt\n",
    "\n",
    "given_array = np.array([-2, 2, 0, 5])\n",
    "print(given_array.ndim)\n",
    "print(given_array.shape)\n",
    "print(given_array.size)"
   ]
  },
  {
   "cell_type": "markdown",
   "id": "2d59c43e-238c-4e04-8d8c-88c0d7583df0",
   "metadata": {},
   "source": [
    "### Exercise 3 – Simple vector math\n",
    "Create two arrays:\n",
    "distance = [100, 200, 155] (meters)\n",
    "time = [10, 25, 15] (seconds)\n",
    "Compute the speed (m/s) for each case."
   ]
  },
  {
   "cell_type": "code",
   "execution_count": 7,
   "id": "52cd0169-f2ad-431b-8fa7-05c772b79baf",
   "metadata": {},
   "outputs": [
    {
     "name": "stdout",
     "output_type": "stream",
     "text": [
      "[10.          8.         10.33333333]\n"
     ]
    }
   ],
   "source": [
    "import numpy as np\n",
    "import matplotlib.pyplot as plt\n",
    "\n",
    "distance = np.array([100, 200, 155])\n",
    "time = np.array([10, 25, 15])\n",
    "\n",
    "print(distance/time)"
   ]
  },
  {
   "cell_type": "markdown",
   "id": "738b09e3-f5bb-46ac-bee1-b0a0db934943",
   "metadata": {},
   "source": [
    "### Exercise 4 – Reshape practice\n",
    "* Create an array of numbers from 1 to 12.\n",
    "* Reshape it into a 3×4 matrix. use reshape method.\n",
    "* Try reshape it into a 2×6 matrix."
   ]
  },
  {
   "cell_type": "code",
   "execution_count": 13,
   "id": "226eeb61-79e0-4127-848b-6d7f1e29a24f",
   "metadata": {},
   "outputs": [
    {
     "name": "stdout",
     "output_type": "stream",
     "text": [
      "[[ 1  2  3  4]\n",
      " [ 5  6  7  8]\n",
      " [ 9 10 11 12]]\n",
      "[[ 1  2  3  4  5  6]\n",
      " [ 7  8  9 10 11 12]]\n"
     ]
    }
   ],
   "source": [
    "import numpy as np\n",
    "import matplotlib.pyplot as plt\n",
    "\n",
    "array_thing = np.arange(1, 13).reshape((3, 4))\n",
    "print(array_thing)\n",
    "\n",
    "array_thing = array_thing.reshape((2, 6))\n",
    "print(array_thing)"
   ]
  },
  {
   "cell_type": "markdown",
   "id": "85b5dc60-8358-4969-af50-77442a8a11d0",
   "metadata": {},
   "source": [
    "### Exercise 5 – Matrix of exam scores\n",
    "Create a 3x4 array representing the exam scores of 3 students in 4 subjects: \\\n",
    "85  90  78  92 \\\n",
    "88  76  95  80 \\\n",
    "90  88  84  91  \n",
    "\n",
    "* Find each student’s average score.\n",
    "* Find the average score in each subject."
   ]
  },
  {
   "cell_type": "code",
   "execution_count": 15,
   "id": "4149beb3-1187-4d10-abdb-c2da0cad184c",
   "metadata": {},
   "outputs": [
    {
     "name": "stdout",
     "output_type": "stream",
     "text": [
      "student score averages: [87.66666667 84.66666667 85.66666667 87.66666667]\n",
      "subject score averages: [86.25 84.75 88.25]\n"
     ]
    }
   ],
   "source": [
    "import numpy as np\n",
    "import matplotlib.pyplot as plt\n",
    "\n",
    "students_scores = np.array([[85, 90, 78, 92], [88, 76, 95, 80], [90, 88, 84, 91]])\n",
    "\n",
    "print(\"student score averages:\", np.mean(students_scores, axis=0))\n",
    "print(\"subject score averages:\", np.mean(students_scores, axis=1))"
   ]
  },
  {
   "cell_type": "markdown",
   "id": "89374df1-0fba-405f-be93-78e61db542ac",
   "metadata": {},
   "source": [
    "### Exercise 6 – Boolean indexing\n",
    "* Create the array: [3, -1, 7, 0, -5, 10]\n",
    "* Select only the positive numbers.\n",
    "* Replace all negative numbers with 0."
   ]
  },
  {
   "cell_type": "code",
   "execution_count": null,
   "id": "c4fd5d6c-8a09-4a46-b128-2d6922367e27",
   "metadata": {},
   "outputs": [
    {
     "name": "stdout",
     "output_type": "stream",
     "text": [
      "[ 3  7 10]\n",
      "[ 3  0  7  0  0 10]\n"
     ]
    }
   ],
   "source": [
    "import numpy as np\n",
    "import matplotlib.pyplot as plt\n",
    "\n",
    "boolean_array = np.array([3, -1, 7, 0, -5, 10])\n",
    "\n",
    "print(boolean_array[boolean_array > 0])\n",
    "\n",
    "boolean_array[boolean_array < 0] = 0\n",
    "print(boolean_array)"
   ]
  },
  {
   "cell_type": "markdown",
   "id": "2058ca6b-bbaa-4f83-bec9-b637707fb168",
   "metadata": {},
   "source": [
    "### Exercise 7 – Projectile motion\n",
    "A ball is thrown upward with initial velocity $v_0 = 20 m/s$.\n",
    "The height after time t seconds is:\n",
    "$$ h(t) = v_0 t - \\frac{1}{2} a t^2 $$\n",
    "\n",
    "where $g=9.8m/s^2$\n",
    "\n",
    "* Use np.linspace to create 20 time points between 0 and 4 seconds.\n",
    "* Compute the height at each time.\n",
    "* plot position - time graph.\n",
    "* calculate the maximum height.\n"
   ]
  },
  {
   "cell_type": "code",
   "execution_count": 21,
   "id": "f9a922ee-a722-4aba-85d4-5d515b5aa85a",
   "metadata": {},
   "outputs": [
    {
     "name": "stdout",
     "output_type": "stream",
     "text": [
      "max height: 20.387811634349028\n"
     ]
    },
    {
     "data": {
      "image/png": "[encoded data removed]",
      "text/plain": [
       "<Figure size 640x480 with 1 Axes>"
      ]
     },
     "metadata": {},
     "output_type": "display_data"
    }
   ],
   "source": [
    "import numpy as np\n",
    "import matplotlib.pyplot as plt\n",
    "\n",
    "v0 = 20\n",
    "g = 9.8\n",
    "h = lambda t: v0*t - ((1/2)*g*(t**2))\n",
    "\n",
    "time_points = np.linspace(0, 4, 20)\n",
    "height_points = np.array(h(time_points))\n",
    "\n",
    "print(\"max height:\", np.max(height_points))\n",
    "\n",
    "plt.plot(time_points, height_points)\n",
    "plt.show()"
   ]
  },
  {
   "cell_type": "markdown",
   "id": "3ed4ba7c-363a-4f5c-9b1a-e5e3f610574c",
   "metadata": {},
   "source": [
    "### Exercise 8 – Random numbers\n",
    "* Generate a 5×5 array of random integers between 1 and 20.\n",
    "* Find the maximum value in the array."
   ]
  },
  {
   "cell_type": "code",
   "execution_count": null,
   "id": "d3af90a6-f1c8-4ef8-94b8-119ae54d0116",
   "metadata": {},
   "outputs": [
    {
     "name": "stdout",
     "output_type": "stream",
     "text": [
      "[[16  1  7 16 11]\n",
      " [16  3  5  7  6]\n",
      " [ 9  5 16 15  4]\n",
      " [ 1 17 10  4 13]\n",
      " [13  2 19  4  8]]\n",
      "19\n"
     ]
    }
   ],
   "source": [
    "import numpy as np\n",
    "import matplotlib.pyplot as plt\n",
    "\n",
    "randoms = np.random.randint(1, 21, 5*5).reshape((5,5))\n",
    "print(randoms)\n",
    "print(np.max(randoms))"
   ]
  },
  {
   "cell_type": "markdown",
   "id": "eb1df5cc-3b34-4178-979d-b481c660e741",
   "metadata": {},
   "source": [
    "### Exercise 9 - Bird migration\n",
    "A wildlife researcher monitors bird migration at two stations (North and South). Each station records whether flocks passed during 10 different nights (1 = flock detected, 0 = none).\n",
    "\n",
    "* On which nights at least one station detected a flock?\n",
    "* How many nights in total were covered by at least one station?"
   ]
  },
  {
   "cell_type": "code",
   "execution_count": null,
   "id": "a0f8002c-e1bf-4b76-ba5c-9d3537bd14c2",
   "metadata": {},
   "outputs": [
    {
     "name": "stdout",
     "output_type": "stream",
     "text": [
      "north: [1 1 0 0 1 0 0 0 1 1]\n",
      "south: [1 1 0 0 1 0 1 0 1 1]\n",
      "[1 1 0 0 1 0 1 0 1 1]\n",
      "6\n"
     ]
    }
   ],
   "source": [
    "import numpy as np\n",
    "import matplotlib.pyplot as plt\n",
    "\n",
    "whether_passed_north = np.array([0,1,0,1,1,0,0,1,0,1], dtype=bool)\n",
    "whether_passed_south = np.array([1,0,1,0,0,1,0,0,0,0], dtype=bool)\n",
    "\n",
    "whether_at_least_one_passed = whether_passed_north | whether_passed_south\n",
    "print(\"north:\", whether_passed_north)\n",
    "print(\"south:\", whether_passed_south)\n",
    "print(whether_at_least_one_passed)\n",
    "\n",
    "print(np.sum(whether_at_least_one_passed == 1))"
   ]
  },
  {
   "cell_type": "markdown",
   "id": "97d89e22-ffaa-4f68-8c72-4d41a04e7c75",
   "metadata": {},
   "source": [
    "### Exercise 10 - Sine wave \n",
    "\n",
    "A physics teacher models a sound wave with wavelength $ 2\\pi $. Generate 50 evenly spaced points between  $ -2\\pi $ and  $ 2\\pi $ , then plot a sine function to represent the wave.\n",
    "* Find the maximum sine value in the array.\n",
    "* Find the index where this maximum occurs."
   ]
  },
  {
   "cell_type": "code",
   "execution_count": 34,
   "id": "3f6a40bf-8030-4f0b-855c-b2cb34a333f6",
   "metadata": {},
   "outputs": [
    {
     "data": {
      "image/png": "[encoded data removed]",
      "text/plain": [
       "<Figure size 640x480 with 1 Axes>"
      ]
     },
     "metadata": {},
     "output_type": "display_data"
    },
    {
     "name": "stdout",
     "output_type": "stream",
     "text": [
      "max y value: 0.9994862162006879\n",
      "index of max y value: [6]\n"
     ]
    }
   ],
   "source": [
    "import numpy as np\n",
    "import matplotlib.pyplot as plt\n",
    "\n",
    "x_values_10 = np.linspace(-2*np.pi, 2*np.pi, 50)\n",
    "y_values_10 = np.sin(x_values_10)\n",
    "plt.plot(x_values_10, y_values_10)\n",
    "plt.show()\n",
    "\n",
    "print(\"max y value:\", np.max(y_values_10))\n",
    "print(\"index of max y value:\", np.where(y_values_10 == np.max(y_values_10))[0])"
   ]
  },
  {
   "cell_type": "markdown",
   "id": "ef93edd1-a4be-42d1-a9df-487f7fa56055",
   "metadata": {},
   "source": [
    "### Exercise 11 - daily temperatures\n",
    "\n",
    "A climate dataset shows daily temperatures (°C) in 6 cities across 5 days:\n",
    "* Find the average and standatd deviation of the temperature for each day .\n",
    "* Find the average and standatd deviation of the temperature for each city .\n",
    "* Which city had the highest overall average temperature ?"
   ]
  },
  {
   "cell_type": "code",
   "execution_count": 35,
   "id": "b57c5a95-6230-4fb5-9fc7-9e52354037a9",
   "metadata": {},
   "outputs": [
    {
     "name": "stdout",
     "output_type": "stream",
     "text": [
      "mean across days: [20.  27.  15.4 31.  12.  23.6]\n",
      "stdev across days: [1.41421356 1.41421356 1.0198039  1.41421356 1.41421356 1.0198039 ]\n",
      "mean across cities: [20.         21.5        21.33333333 21.66666667 23.        ]\n",
      "stdev across cities: [6.55743852 6.92218655 6.18241233 6.62486897 6.55743852]\n"
     ]
    }
   ],
   "source": [
    "import numpy as np\n",
    "import matplotlib.pyplot as plt\n",
    "\n",
    "daily_temps = np.array([\n",
    "    [18, 20, 22, 19, 21],\n",
    "    [25, 28, 27, 26, 29],\n",
    "    [15, 14, 16, 15, 17],\n",
    "    [30, 31, 29, 32, 33],\n",
    "    [10, 12, 11, 13, 14],\n",
    "    [22, 24, 23, 25, 24]\n",
    "])\n",
    "\n",
    "print(\"mean across days:\", np.mean(daily_temps, axis=1))\n",
    "print(\"stdev across days:\", np.std(daily_temps, axis=1))\n",
    "\n",
    "print(\"mean across cities:\", np.mean(daily_temps, axis=0))\n",
    "print(\"stdev across cities:\", np.std(daily_temps, axis=0))"
   ]
  },
  {
   "cell_type": "markdown",
   "id": "d04f85c7-2c8a-4c1f-a31d-80e076c1aa98",
   "metadata": {},
   "source": [
    "\n",
    "### Exercise 12 - changing signs\n",
    "\n",
    "Define the sequence\n",
    "\n",
    "$$\n",
    "a_n = (-1)^n \\cdot n^2, \\qquad n = 1,2,\\dots,20\n",
    "$$\n",
    "\n",
    "1. Construct this sequence in NumPy.\n",
    "2. Split the sequence into **even and odd indices** (two separate arrays).\n",
    "3. Compute the **mean** and **standard deviation** of both groups.\n",
    "4. Explain:\n",
    "    * Why the means of the two subsequences have opposite signs.\n",
    "    * Why the standard deviations are very similar despite the sign difference.\n",
    "\n"
   ]
  },
  {
   "cell_type": "code",
   "execution_count": null,
   "id": "aec20e3f-0184-4d86-8735-0102675730bb",
   "metadata": {},
   "outputs": [
    {
     "name": "stdout",
     "output_type": "stream",
     "text": [
      "[  -1    4   -9   16  -25   36  -49   64  -81  100 -121  144 -169  196\n",
      " -225  256 -289  324 -361  400]\n",
      "mean of even: -133.0\n",
      "stdev of even: 118.51075900524812\n",
      "mean of odd: 154.0\n",
      "stdev of odd: 129.6796051813854\n"
     ]
    }
   ],
   "source": [
    "import numpy as np\n",
    "import matplotlib.pyplot as plt\n",
    "\n",
    "a = lambda n: ((-1)**n)*(n**2)\n",
    "sequence_12 = a(np.arange(1, 21))\n",
    "print(sequence)\n",
    "\n",
    "even_sequence = sequence_12[::2]\n",
    "odd_sequence = sequence_12[1::2]\n",
    "print(\"mean of even:\", np.mean(even_sequence))\n",
    "print(\"stdev of even:\", np.std(even_sequence))\n",
    "\n",
    "print(\"mean of odd:\", np.mean(odd_sequence))\n",
    "print(\"stdev of odd:\", np.std(odd_sequence))"
   ]
  },
  {
   "cell_type": "markdown",
   "id": "244e323f-bd5a-4c19-ac6f-b489bfb02438",
   "metadata": {},
   "source": [
    "\n",
    "### Exercise 13 - polynomial analysis\n",
    "Define the polynomial\n",
    "\n",
    "$$\n",
    "p(n) = n^3 - 12n^2 + 35n, \\qquad n = 0,1,\\dots,15\n",
    "$$\n",
    "\n",
    "1. Generate this sequence with NumPy.\n",
    "2. Order the sequence values from largest to smallest.\n",
    "3. Identify the indices $n$ at which the **minimum** and **maximum** values occur:\n",
    "\n",
    "$$\n",
    "n_{\\min} = \\arg\\min_{n} \\, p(n), \\qquad \n",
    "n_{\\max} = \\arg\\max_{n} \\, p(n)\n",
    "$$"
   ]
  },
  {
   "cell_type": "code",
   "execution_count": 47,
   "id": "8ea0af5e-ed50-4631-a476-d64abed4a0d0",
   "metadata": {},
   "outputs": [
    {
     "name": "stdout",
     "output_type": "stream",
     "text": [
      "[  24   30   24   12    0   -6    0   24   72  150  264  420  624  882\n",
      " 1200]\n",
      "[1200  882  624  420  264  150   72   30   24   24   24   12    0    0\n",
      "   -6]\n",
      "5\n",
      "14\n"
     ]
    }
   ],
   "source": [
    "import numpy as np\n",
    "import matplotlib.pyplot as plt\n",
    "\n",
    "p = lambda n: (n**3) - (12*(n**2)) + (35*n)\n",
    "sequence_13 = p(np.arange(1, 16))\n",
    "print(sequence_13)\n",
    "\n",
    "ordered_sequence_13 = np.sort(sequence_13)[::-1]\n",
    "print(ordered_sequence_13)\n",
    "\n",
    "print(np.argmin(sequence_13))\n",
    "print(np.argmax(sequence_13))"
   ]
  }
 ],
 "metadata": {
  "kernelspec": {
   "display_name": "Python 3",
   "language": "python",
   "name": "python3"
  },
  "language_info": {
   "codemirror_mode": {
    "name": "ipython",
    "version": 3
   },
   "file_extension": ".py",
   "mimetype": "text/x-python",
   "name": "python",
   "nbconvert_exporter": "python",
   "pygments_lexer": "ipython3",
   "version": "3.11.2"
  }
 },
 "nbformat": 4,
 "nbformat_minor": 5
}
