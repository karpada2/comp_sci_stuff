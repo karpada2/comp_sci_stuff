{
 "cells": [
  {
   "cell_type": "code",
   "execution_count": 2,
   "id": "698b7af0",
   "metadata": {},
   "outputs": [],
   "source": [
    "import numpy as np"
   ]
  },
  {
   "cell_type": "code",
   "execution_count": 3,
   "id": "bef42394",
   "metadata": {},
   "outputs": [
    {
     "data": {
      "text/plain": [
       "3.5002783"
      ]
     },
     "metadata": {},
     "output_type": "display_data"
    }
   ],
   "source": [
    "size = 10_000_000\n",
    "\n",
    "results = np.random.randint(1, 7, size)\n",
    "\n",
    "def expected_value(inpt):\n",
    "    sum = np.sum(inpt)\n",
    "    return sum/(inpt.size)\n",
    "\n",
    "display(expected_value(results))"
   ]
  },
  {
   "cell_type": "code",
   "execution_count": 13,
   "id": "84f9fe33",
   "metadata": {},
   "outputs": [
    {
     "data": {
      "text/plain": [
       "24.7"
      ]
     },
     "metadata": {},
     "output_type": "display_data"
    },
    {
     "data": {
      "text/plain": [
       "2201.91"
      ]
     },
     "metadata": {},
     "output_type": "display_data"
    },
    {
     "data": {
      "text/plain": [
       "1.8997778886385837"
      ]
     },
     "metadata": {},
     "output_type": "display_data"
    }
   ],
   "source": [
    "values = np.array([\n",
    "    0,\n",
    "    5,\n",
    "    10,\n",
    "    20,\n",
    "    30,\n",
    "    40,\n",
    "    50,\n",
    "    60,\n",
    "    80,\n",
    "    100,\n",
    "    200,\n",
    "    500\n",
    "])\n",
    "\n",
    "chances = np.array([\n",
    "    0.25,\n",
    "    0.20,\n",
    "    0.15,\n",
    "    0.10,\n",
    "    0.07,\n",
    "    0.06,\n",
    "    0.05,\n",
    "    0.04,\n",
    "    0.035,\n",
    "    0.025,\n",
    "    0.015,\n",
    "    0.005\n",
    "])\n",
    "\n",
    "multiplied = values*chances\n",
    "\n",
    "expected_val = np.sum(multiplied)\n",
    "variance = np.sum(((values - expected_val)**2)*chances)\n",
    "cv = (variance**0.5)/(expected_val)\n",
    "\n",
    "display(expected_val)\n",
    "display(variance)\n",
    "display(cv)"
   ]
  }
 ],
 "metadata": {
  "kernelspec": {
   "display_name": "Python 3",
   "language": "python",
   "name": "python3"
  },
  "language_info": {
   "codemirror_mode": {
    "name": "ipython",
    "version": 3
   },
   "file_extension": ".py",
   "mimetype": "text/x-python",
   "name": "python",
   "nbconvert_exporter": "python",
   "pygments_lexer": "ipython3",
   "version": "3.11.2"
  }
 },
 "nbformat": 4,
 "nbformat_minor": 5
}
