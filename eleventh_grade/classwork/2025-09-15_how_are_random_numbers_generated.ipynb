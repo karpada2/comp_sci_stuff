{
 "cells": [
  {
   "cell_type": "code",
   "execution_count": 4,
   "id": "054b6f50",
   "metadata": {},
   "outputs": [],
   "source": [
    "import matplotlib.pyplot as plt\n",
    "import random\n",
    "import numpy as np"
   ]
  },
  {
   "cell_type": "markdown",
   "id": "fbee79e9",
   "metadata": {},
   "source": [
    "# A)."
   ]
  },
  {
   "cell_type": "code",
   "execution_count": null,
   "id": "ca458e02",
   "metadata": {},
   "outputs": [],
   "source": [
    "# 1).\n",
    "random_list_a = [random.randint(1, 10) for i in range(10)]\n",
    "display(random_list_a)\n",
    "\n",
    "\n",
    "for i in range(10):\n",
    "    print([random.randint(1, 10) for j in range(10)])\n",
    "# 2). yes they are\n",
    "\n",
    "# 3).\n",
    "random.seed(5)\n",
    "random_list_a = [random.randint(1, 10) for i in range(10)]\n",
    "display(random_list_a)"
   ]
  },
  {
   "cell_type": "markdown",
   "id": "22739166",
   "metadata": {},
   "source": [
    "# B)."
   ]
  },
  {
   "cell_type": "code",
   "execution_count": null,
   "id": "7041ce43",
   "metadata": {},
   "outputs": [],
   "source": [
    "# 1).\n",
    "func_1 = lambda x: (x+3) % 10\n",
    "\n",
    "x_0 = 1\n",
    "\n",
    "random_list_b = np.empty(25)\n",
    "random_list_b[0] = x_0\n",
    "\n",
    "for i in range(1, random_list_b.size):\n",
    "    random_list_b[i] = func_1(random_list_b[i-1])\n",
    "\n",
    "print(random_list_b)\n",
    "\n",
    "\n",
    "# 2). המחזור הוא באורך 11\n",
    "\n",
    "# 3).\n",
    "func_2 = lambda x: (x+4) % 10\n",
    "\n",
    "x_0 = 1\n",
    "\n",
    "random_list_b = np.empty(25)\n",
    "random_list_b[0] = x_0\n",
    "\n",
    "for i in range(1, random_list_b.size):\n",
    "    random_list_b[i] = func_2(random_list_b[i-1])\n",
    "\n",
    "print(random_list_b)\n",
    "# המחזור נהיה באורך 6"
   ]
  },
  {
   "cell_type": "markdown",
   "id": "0f090090",
   "metadata": {},
   "source": [
    "# C)."
   ]
  },
  {
   "cell_type": "code",
   "execution_count": null,
   "id": "80609663",
   "metadata": {},
   "outputs": [],
   "source": [
    "func_n = lambda a_func, c_func, m_func, prev_x: ((a_func * prev_x) + c_func) % m_func\n",
    "\n",
    "# 1).\n",
    "a = 5\n",
    "c = 1\n",
    "m = 16\n",
    "x_0 = 1\n",
    "\n",
    "random_list_c = np.empty(20)\n",
    "random_list_c[0] = x_0\n",
    "\n",
    "for i in range(1, 20):\n",
    "    random_list_c[i] = func_n(a, c, m, random_list_c[i-1])\n",
    "print(random_list_c)\n",
    "\n",
    "# 2). מחזוריות של 17\n",
    "\n",
    "# 3).\n",
    "a = 9\n",
    "c = 4\n",
    "m = 16\n",
    "x_0 = 1\n",
    "\n",
    "random_list_c = np.empty(20)\n",
    "random_list_c[0] = x_0\n",
    "\n",
    "for i in range(1, 20):\n",
    "    random_list_c[i] = func_n(a, c, m, random_list_c[i-1])\n",
    "print(random_list_c)\n",
    "# המחזוריות קטנה ל5"
   ]
  },
  {
   "cell_type": "markdown",
   "id": "f364e4b8",
   "metadata": {},
   "source": [
    "# D)."
   ]
  },
  {
   "cell_type": "code",
   "execution_count": 6,
   "id": "e95e2a17",
   "metadata": {},
   "outputs": [],
   "source": [
    "func_n = lambda a_func, c_func, m_func, prev_x: ((a_func * prev_x) + c_func) % m_func"
   ]
  },
  {
   "cell_type": "code",
   "execution_count": null,
   "id": "bc26b7ac",
   "metadata": {},
   "outputs": [],
   "source": [
    "# 1).\n",
    "a = 5\n",
    "c = 1\n",
    "m = 16\n",
    "x_0 = 1\n",
    "\n",
    "random_list_d = np.empty(20)\n",
    "random_list_d[0] = x_0\n",
    "\n",
    "for i in range(1, 20):\n",
    "    random_list_d[i] = (func_n(a, c, m, random_list_d[i-1]))\n",
    "\n",
    "print(random_list_d/m)\n",
    "\n",
    "# 2). yes\n",
    "a = 5\n",
    "c = 1\n",
    "m = 16\n",
    "x_0 = 1\n",
    "\n",
    "random_list_d = np.empty(1000)\n",
    "random_list_d[0] = x_0\n",
    "\n",
    "for i in range(1, 1000):\n",
    "    random_list_d[i] = (func_n(a, c, m, random_list_d[i-1]))\n",
    "\n",
    "plt.hist(random_list_d/m, bins=100)\n",
    "plt.show()\n",
    "\n",
    "\n",
    "# 3). no\n",
    "plt.scatter(range(1000), random_list_d/m)\n",
    "plt.show()"
   ]
  },
  {
   "cell_type": "code",
   "execution_count": 2,
   "id": "a5ea44d2",
   "metadata": {},
   "outputs": [],
   "source": [
    "# 4).\n",
    "def normalized_LCG_for_amount(a_func, c_func, m_func, seed, amount=1000):\n",
    "    randomized_list_LCG = np.empty(amount)\n",
    "    randomized_list_LCG[0] = seed\n",
    "\n",
    "    for i in range(1, amount):\n",
    "        randomized_list_LCG[i] = func_n(a_func, c_func, m_func, randomized_list_LCG[i-1])\n",
    "    \n",
    "    return randomized_list_LCG / m_func"
   ]
  },
  {
   "cell_type": "code",
   "execution_count": null,
   "id": "6fa7001f",
   "metadata": {},
   "outputs": [],
   "source": [
    "a_params = [19, 19, 19, 75]\n",
    "c_params = [51, 51, 51, 0]\n",
    "m_params = [100, 100, 100, ((2**31)-1)]\n",
    "seeds = [25, 90, 25, 1]\n",
    "\n",
    "for i in range(4):\n",
    "    plt.hist(normalized_LCG_for_amount(a_params[i], c_params[i], m_params[i], seeds[i], 100_000), bins=100)\n",
    "    plt.show()"
   ]
  },
  {
   "cell_type": "code",
   "execution_count": null,
   "id": "e45ba843",
   "metadata": {},
   "outputs": [],
   "source": [
    "# 4). because the period is so big, you cant see the next one so it appears random."
   ]
  },
  {
   "cell_type": "code",
   "execution_count": 40,
   "id": "518abb07",
   "metadata": {},
   "outputs": [
    {
     "name": "stdout",
     "output_type": "stream",
     "text": [
      "mean=0.5003806454815812\n",
      "stdev=0.288917136799726\n",
      "median=0.49996189237570476\n",
      "quantiles=[0.24928196 0.49996189 0.75124321]\n"
     ]
    }
   ],
   "source": [
    "# 5).\n",
    "LearmonthLewis = normalized_LCG_for_amount(75, 0, (2**31)-1, 1, 100_000)\n",
    "print(f\"mean={np.mean(LearmonthLewis)}\")\n",
    "print(f\"stdev={np.std(LearmonthLewis)}\")\n",
    "print(f\"median={np.median(LearmonthLewis)}\")\n",
    "print(f\"quantiles={np.quantile(LearmonthLewis, [0.25, 0.5, 0.75])}\")"
   ]
  },
  {
   "cell_type": "markdown",
   "id": "10bd40a4",
   "metadata": {},
   "source": [
    "# E)."
   ]
  },
  {
   "cell_type": "code",
   "execution_count": 8,
   "id": "edc49acf",
   "metadata": {},
   "outputs": [
    {
     "name": "stdout",
     "output_type": "stream",
     "text": [
      "1.0, 0.7000000000000001, 0.4121212121212121, 0.1484848484848485, -0.0787878787878788, -0.25757575757575757, -0.3757575757575758, -0.4212121212121212, -0.38181818181818183, -0.24545454545454545, "
     ]
    }
   ],
   "source": [
    "def cov(y, k):\n",
    "    mean_val = np.mean(y)\n",
    "    sum = 0\n",
    "\n",
    "    for i in range(np.size(y) - k):\n",
    "        sum += (y[i] - mean_val)*(y[i+k] - mean_val)\n",
    "    \n",
    "    return sum / np.size(y)\n",
    "\n",
    "def autocorrelation(y, k):\n",
    "    return cov(y, k) / np.var(y)\n",
    "\n",
    "a = np.arange(1, 11)\n",
    "for i in range(a.size):\n",
    "    print(autocorrelation(a, i), end=\", \")"
   ]
  },
  {
   "cell_type": "markdown",
   "id": "d1b9a77c",
   "metadata": {},
   "source": [
    "# F)."
   ]
  },
  {
   "cell_type": "code",
   "execution_count": 10,
   "id": "b0c6db07",
   "metadata": {},
   "outputs": [
    {
     "data": {
      "image/png": "[encoded data removed]",
      "text/plain": [
       "<Figure size 640x480 with 1 Axes>"
      ]
     },
     "metadata": {},
     "output_type": "display_data"
    }
   ],
   "source": [
    "# 1).\n",
    "randomized_list = normalized_LCG_for_amount(75, 0, (2**31)-1, 1, 10_000)\n",
    "autocorrelated = [autocorrelation(randomized_list, k) for k in range(np.size(randomized_list+1))]\n",
    "plt.plot(autocorrelated)\n",
    "plt.show()"
   ]
  }
 ],
 "metadata": {
  "kernelspec": {
   "display_name": "Python 3",
   "language": "python",
   "name": "python3"
  },
  "language_info": {
   "codemirror_mode": {
    "name": "ipython",
    "version": 3
   },
   "file_extension": ".py",
   "mimetype": "text/x-python",
   "name": "python",
   "nbconvert_exporter": "python",
   "pygments_lexer": "ipython3",
   "version": "3.11.2"
  }
 },
 "nbformat": 4,
 "nbformat_minor": 5
}
