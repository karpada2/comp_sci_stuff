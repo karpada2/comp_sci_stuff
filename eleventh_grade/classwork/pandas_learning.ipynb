{
 "cells": [
  {
   "cell_type": "code",
   "execution_count": 4,
   "id": "f35e402d",
   "metadata": {},
   "outputs": [
    {
     "name": "stdout",
     "output_type": "stream",
     "text": [
      "Empty DataFrame\n",
      "Columns: [name, artists, release_year, popularity, duration_minutes, key, mode, explicit, danceability, energy, loudness, speechiness, acousticness, instrumentalness, liveness, valence, tempo]\n",
      "Index: []\n"
     ]
    }
   ],
   "source": [
    "import pandas as pd\n",
    "\n",
    "spotify = pd.read_csv(\"https://data.cyber.org.il/virtual_courses/introdata/colab/spotify_tracks.csv\")"
   ]
  },
  {
   "cell_type": "code",
   "execution_count": 11,
   "id": "fc1877ec",
   "metadata": {},
   "outputs": [
    {
     "name": "stdout",
     "output_type": "stream",
     "text": [
      "                                                 name        artists  \\\n",
      "37692                                         Suzanne  Leonard Cohen   \n",
      "37719                               So Long, Marianne  Leonard Cohen   \n",
      "37801               Hey, That's No Way to Say Goodbye  Leonard Cohen   \n",
      "37858                                Sisters of Mercy  Leonard Cohen   \n",
      "37865                               The Stranger Song  Leonard Cohen   \n",
      "...                                               ...            ...   \n",
      "286023                      If It Be Your Will - Live  Leonard Cohen   \n",
      "286025               One of Us Cannot Be Wrong - Live  Leonard Cohen   \n",
      "292326     Ballad of the Absent Mare - Longer Version  Leonard Cohen   \n",
      "327108  Dance Me To The End Of Love - Live in Toronto  Leonard Cohen   \n",
      "506976                                         Lovers  Leonard Cohen   \n",
      "\n",
      "        release_year  popularity  duration_minutes    key  mode  explicit  \\\n",
      "37692           1967          66          3.821550  F#/Gb     0         0   \n",
      "37719           1967          61          5.676000      A     1         0   \n",
      "37801           1967          53          2.942000  A#/Bb     1         0   \n",
      "37858           1967          49          3.593117      B     1         0   \n",
      "37865           1967          49          5.122883      E     0         0   \n",
      "...              ...         ...               ...    ...   ...       ...   \n",
      "286023          1994          20          3.303117      C     1         0   \n",
      "286025          1994          20          5.339783      G     0         0   \n",
      "292326          1979          26          6.714000      A     1         0   \n",
      "327108          1988          27          6.200000      E     0         0   \n",
      "506976          1957           6          0.844667  D#/Eb     0         0   \n",
      "\n",
      "        danceability  energy  loudness  speechiness  acousticness  \\\n",
      "37692          0.409  0.1720   -16.440       0.0389         0.922   \n",
      "37719          0.543  0.3950   -11.396       0.0267         0.701   \n",
      "37801          0.442  0.2500   -13.017       0.0314         0.893   \n",
      "37858          0.443  0.2410   -13.834       0.0330         0.840   \n",
      "37865          0.458  0.2860   -17.604       0.0813         0.856   \n",
      "...              ...     ...       ...          ...           ...   \n",
      "286023         0.413  0.0486   -24.310       0.0312         0.823   \n",
      "286025         0.487  0.2640   -14.815       0.0326         0.656   \n",
      "292326         0.453  0.1690   -15.084       0.0348         0.835   \n",
      "327108         0.408  0.4930   -12.241       0.0386         0.516   \n",
      "506976         0.843  0.0389   -22.256       0.8170         0.515   \n",
      "\n",
      "        instrumentalness  liveness  valence    tempo  \n",
      "37692           0.001120    0.1110    0.352  132.151  \n",
      "37719           0.000042    0.0961    0.231   94.872  \n",
      "37801           0.000018    0.1030    0.285  138.906  \n",
      "37858           0.000002    0.1790    0.440  136.695  \n",
      "37865           0.001270    0.1170    0.510   93.958  \n",
      "...                  ...       ...      ...      ...  \n",
      "286023          0.000052    0.7060    0.103  132.527  \n",
      "286025          0.000014    0.6920    0.208  135.162  \n",
      "292326          0.000621    0.1150    0.435  143.805  \n",
      "327108          0.027500    0.9780    0.423  132.712  \n",
      "506976          0.000000    0.1010    0.307   47.521  \n",
      "\n",
      "[197 rows x 17 columns]\n"
     ]
    }
   ],
   "source": [
    "print(spotify.loc[(spotify[\"artists\"] == \"Arik Einstein\") | (spotify[\"artists\"] == \"Leonard Cohen\")])"
   ]
  }
 ],
 "metadata": {
  "kernelspec": {
   "display_name": "Python 3 (ipykernel)",
   "language": "python",
   "name": "python3"
  },
  "language_info": {
   "codemirror_mode": {
    "name": "ipython",
    "version": 3
   },
   "file_extension": ".py",
   "mimetype": "text/x-python",
   "name": "python",
   "nbconvert_exporter": "python",
   "pygments_lexer": "ipython3",
   "version": "3.11.2"
  }
 },
 "nbformat": 4,
 "nbformat_minor": 5
}
