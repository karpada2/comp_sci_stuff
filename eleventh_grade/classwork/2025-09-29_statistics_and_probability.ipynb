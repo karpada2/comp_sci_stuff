{
 "cells": [
  {
   "cell_type": "markdown",
   "id": "ec38b878",
   "metadata": {},
   "source": [
    "# Exercise 1).\n",
    "$P(A) = \\frac{3}{6} = \\frac{1}{2}$<br>\n",
    "$P(B) = \\frac{1}{2}$<br>\n",
    "\n",
    "__2).__<br>\n",
    "$P(A \\cap B) = P(A) \\cdot P(B) = \\frac{1}{2}\\cdot\\frac{1}{2} = \\frac{1}{4}$<br><br>\n",
    "__3).__<br>\n",
    "$P(A \\cup B) = P(A) + P(B) - P(A \\cap B) = \\frac{1}{2} + \\frac{1}{2} - \\frac{1}{4} = \\frac{3}{4}$<br><br>"
   ]
  },
  {
   "cell_type": "markdown",
   "id": "560af91f",
   "metadata": {},
   "source": [
    "# Exercise 2).\n",
    "$P(A) = P(\"knows python\") = \\frac{350}{1400} = \\frac{1}{4}$<br>\n",
    "$P(B) = P(\"likes nature trips\") = \\frac{400}{1400} = \\frac{2}{7}$<br>\n",
    "\n",
    "## Probability of knowing python and enjoying nature trips:\n",
    "$P(A \\cap B) = P(A) \\cdot P(B) = \\frac{1}{4}\\cdot\\frac{2}{7} = \\frac{1}{14}$<br>\n",
    "## Probability of knowing python and not enjoying nature trips:\n",
    "$P(A \\cap B') = P(A) \\cdot P(B') = \\frac{1}{4}\\cdot\\frac{5}{7} = \\frac{5}{28}$<br>\n",
    "\n",
    "## Does knowing python affect enjoying nature trips?\n",
    "Yes, because $P(A \\cap B) = \\frac{1}{14}$ is smaller than $P(A \\cap B') = \\frac{5}{28}$, showing that knwoing python diminishes your chance of enjoying nature trips."
   ]
  },
  {
   "cell_type": "markdown",
   "id": "76058254",
   "metadata": {
    "vscode": {
     "languageId": "plaintext"
    }
   },
   "source": [
    "# Exercise 3).\n",
    "\n",
    "$P(A) = 0.92$<br>\n",
    "$P(B) = 0.85$<br>\n",
    "\n",
    "__1).__<br>\n",
    "$P(A \\cap B) = P(A) \\cdot P(B) = 0.92 \\cdot 0.85 = 0.782$<br><br>\n",
    "\n",
    "__2).__<br>\n",
    "$P(A \\cup B) = P(A) + P(B) - P(A \\cap B) = 0.92 + 0.85 - P(A \\cap B) = 0.988$<br><br>\n",
    "\n",
    "__3).__<br>\n",
    "$P(A \\cap B') + P(A' \\cap B) = (P(A) \\cdot P(B')) + (P(A') \\cdot P(B)) = (0.92 \\cdot 0.15) + (0.08 \\cdot 0.85) = 0.206$<br><br>"
   ]
  },
  {
   "cell_type": "markdown",
   "id": "5fde86b5",
   "metadata": {},
   "source": [
    "# Exercise 4).\n"
   ]
  },
  {
   "cell_type": "markdown",
   "id": "dd61fa43",
   "metadata": {},
   "source": [
    "# Exercise 5)."
   ]
  },
  {
   "cell_type": "code",
   "execution_count": 19,
   "id": "c53d4d41",
   "metadata": {},
   "outputs": [
    {
     "data": {
      "image/png": "[encoded data removed]",
      "text/plain": [
       "<Figure size 640x480 with 1 Axes>"
      ]
     },
     "metadata": {},
     "output_type": "display_data"
    }
   ],
   "source": [
    "import numpy as np\n",
    "import matplotlib.pyplot as plt\n",
    "\n",
    "black_color = np.array([0, 0, 0])\n",
    "orange_color = np.array([223/255, 120/255, 61/255])  # #DF783D converted to RGB\n",
    "red_color = np.array([1, 0, 0])\n",
    "\n",
    "def get_color(sensor_cell): \n",
    "    cell1 = sensor_cell[0]\n",
    "    cell2 = sensor_cell[1]\n",
    "    exactly_one_chance = (cell1 * (1-cell2)) + ((1-cell1) * cell2)\n",
    "    exactly_two_chance = (cell1*cell2)\n",
    "    if (exactly_two_chance > 0.7):\n",
    "        return red_color\n",
    "    elif (exactly_one_chance > 0.5):\n",
    "        return orange_color\n",
    "    else:\n",
    "        return black_color\n",
    "\n",
    "sensor = np.random.uniform(0, 1, size=(100, 100, 2))\n",
    "color_matrix = np.apply_along_axis(get_color, axis=2, arr=sensor)\n",
    "\n",
    "plt.imshow(color_matrix)\n",
    "plt.show()"
   ]
  }
 ],
 "metadata": {
  "kernelspec": {
   "display_name": "Python 3",
   "language": "python",
   "name": "python3"
  },
  "language_info": {
   "codemirror_mode": {
    "name": "ipython",
    "version": 3
   },
   "file_extension": ".py",
   "mimetype": "text/x-python",
   "name": "python",
   "nbconvert_exporter": "python",
   "pygments_lexer": "ipython3",
   "version": "3.11.2"
  }
 },
 "nbformat": 4,
 "nbformat_minor": 5
}
