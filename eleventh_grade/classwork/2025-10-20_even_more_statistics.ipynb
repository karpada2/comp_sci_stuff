{
 "cells": [
  {
   "cell_type": "code",
   "execution_count": 17,
   "id": "66668de3",
   "metadata": {},
   "outputs": [],
   "source": [
    "from scipy.special import comb\n",
    "import numpy as np\n",
    "import matplotlib.pyplot as plt"
   ]
  },
  {
   "cell_type": "code",
   "execution_count": 24,
   "id": "3441537f",
   "metadata": {},
   "outputs": [],
   "source": [
    "def binomial_distribution(amount_of_tests, amount_required, chance_of_happening):\n",
    "    return comb(amount_of_tests, amount_required)*(chance_of_happening**amount_required)*((1-chance_of_happening)**(amount_of_tests-amount_required))\n",
    "\n",
    "def CPF(amount_of_tests, possible_amounts, chance_of_happening):\n",
    "    return binomial_distribution(amount_of_tests, possible_amounts, chance_of_happening).sum()\n",
    "\n",
    "def expected_value(values, chances):\n",
    "    return (values*chances).sum()\n",
    "\n",
    "def var(values, chances):\n",
    "    return expected_value((x-expected_value(values, chances))**2, chances)"
   ]
  },
  {
   "cell_type": "code",
   "execution_count": 6,
   "id": "e4efafc1",
   "metadata": {},
   "outputs": [
    {
     "name": "stdout",
     "output_type": "stream",
     "text": [
      "40.53\n",
      "40.53\n",
      "40.53\n"
     ]
    }
   ],
   "source": [
    "p = np.array([0.12, 0.36, 0.3, 0.12, 0.1])\n",
    "x = np.array([2, 1, 5, 15, 20])\n",
    "\n",
    "if (p.sum() == 1):\n",
    "    print(expected_value((x-expected_value(x, p))**2, p))\n",
    "    print(expected_value(x**2, p)-((expected_value(x, p))**2))\n",
    "    print(var(x, p))"
   ]
  },
  {
   "cell_type": "code",
   "execution_count": null,
   "id": "e13affcf",
   "metadata": {},
   "outputs": [
    {
     "name": "stdout",
     "output_type": "stream",
     "text": [
      "0.1171875\n",
      "0.171875\n"
     ]
    }
   ],
   "source": [
    "print(binomial_distribution(10, 3, 0.5))\n",
    "possible_amounts = np.array([0, 1, 2, 3])\n",
    "print(binomial_distribution(10, possible_amounts, 0.5).sum())"
   ]
  },
  {
   "cell_type": "code",
   "execution_count": 21,
   "id": "5cfd137f",
   "metadata": {},
   "outputs": [
    {
     "name": "stdout",
     "output_type": "stream",
     "text": [
      "25\n",
      "27\n"
     ]
    }
   ],
   "source": [
    "count_tens = 0\n",
    "count_nines = 0\n",
    "for i in range(1, 7):\n",
    "    for j in range(1, 7):\n",
    "        for k in range(1, 7):\n",
    "            if (i+j+k == 9):\n",
    "                count_nines += 1\n",
    "            elif (i+j+k == 10):\n",
    "                count_tens += 1\n",
    "\n",
    "print(count_nines)\n",
    "print(count_tens)"
   ]
  },
  {
   "cell_type": "code",
   "execution_count": 23,
   "id": "a5c78b2a",
   "metadata": {},
   "outputs": [
    {
     "name": "stdout",
     "output_type": "stream",
     "text": [
      "28\n",
      "36\n"
     ]
    }
   ],
   "source": [
    "count_tens = 0\n",
    "count_nines = 0\n",
    "for i in range(1, 11):\n",
    "    for j in range(1, 11):\n",
    "        for k in range(1, 11):\n",
    "            if (i+j+k == 9):\n",
    "                count_nines += 1\n",
    "            elif (i+j+k == 10):\n",
    "                count_tens += 1\n",
    "\n",
    "print(count_nines)\n",
    "print(count_tens)"
   ]
  },
  {
   "cell_type": "code",
   "execution_count": null,
   "id": "a44c3e3d",
   "metadata": {},
   "outputs": [],
   "source": []
  }
 ],
 "metadata": {
  "kernelspec": {
   "display_name": "Python 3",
   "language": "python",
   "name": "python3"
  },
  "language_info": {
   "codemirror_mode": {
    "name": "ipython",
    "version": 3
   },
   "file_extension": ".py",
   "mimetype": "text/x-python",
   "name": "python",
   "nbconvert_exporter": "python",
   "pygments_lexer": "ipython3",
   "version": "3.11.2"
  }
 },
 "nbformat": 4,
 "nbformat_minor": 5
}
