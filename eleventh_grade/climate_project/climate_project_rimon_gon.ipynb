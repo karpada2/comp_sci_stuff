{
 "cells": [
  {
   "cell_type": "markdown",
   "id": "49580183",
   "metadata": {},
   "source": [
    "# Question:\n"
   ]
  }
 ],
 "metadata": {
  "language_info": {
   "name": "python"
  }
 },
 "nbformat": 4,
 "nbformat_minor": 5
}
