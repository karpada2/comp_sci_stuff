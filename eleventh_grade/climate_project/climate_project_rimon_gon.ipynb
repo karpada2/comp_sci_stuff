{
 "cells": [
  {
   "cell_type": "markdown",
   "id": "49580183",
   "metadata": {},
   "source": [
    "# Question: What is the difference between the effect of temperature on humidity between the north and the south?\n"
   ]
  },
  {
   "cell_type": "code",
   "execution_count": 1,
   "id": "bc334919",
   "metadata": {},
   "outputs": [],
   "source": [
    "import matplotlib.pyplot as plt\n",
    "import pandas as pd"
   ]
  },
  {
   "cell_type": "code",
   "execution_count": null,
   "id": "de14234e",
   "metadata": {},
   "outputs": [],
   "source": [
    "north_data = pd.read_csv(\"data_north.csv\")\n",
    "south_data = pd.read_csv(\"data_south.csv\")"
   ]
  }
 ],
 "metadata": {
  "kernelspec": {
   "display_name": "Python 3",
   "language": "python",
   "name": "python3"
  },
  "language_info": {
   "codemirror_mode": {
    "name": "ipython",
    "version": 3
   },
   "file_extension": ".py",
   "mimetype": "text/x-python",
   "name": "python",
   "nbconvert_exporter": "python",
   "pygments_lexer": "ipython3",
   "version": "3.11.2"
  }
 },
 "nbformat": 4,
 "nbformat_minor": 5
}
